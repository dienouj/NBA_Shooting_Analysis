{
 "cells": [
  {
   "cell_type": "code",
   "execution_count": 8,
   "id": "7c93d215",
   "metadata": {},
   "outputs": [
    {
     "name": "stdout",
     "output_type": "stream",
     "text": [
      "<class 'pandas.core.frame.DataFrame'>\n",
      "RangeIndex: 100 entries, 0 to 99\n",
      "Data columns (total 7 columns):\n",
      " #   Column    Non-Null Count  Dtype  \n",
      "---  ------    --------------  -----  \n",
      " 0   INDEX     100 non-null    int64  \n",
      " 1   SHOOTER   100 non-null    object \n",
      " 2   X         100 non-null    float64\n",
      " 3   Y         100 non-null    float64\n",
      " 4   RANGE     100 non-null    object \n",
      " 5   DEFENDER  100 non-null    object \n",
      " 6   SCORE     100 non-null    object \n",
      "dtypes: float64(2), int64(1), object(4)\n",
      "memory usage: 5.6+ KB\n",
      "None\n",
      "   INDEX     SHOOTER         X         Y   RANGE    DEFENDER SCORE\n",
      "0      0  Seth Curry -3.808987  5.583621  (0, 4)  Chris Paul  MADE\n",
      "1      1  Seth Curry -0.104279  5.919138  (0, 4)  Trae Young  MADE\n",
      "2      2  Seth Curry -0.525864  8.912239  (0, 4)  Trae Young  MADE\n",
      "3      3  Seth Curry -0.790616  7.503782  (0, 4)  Chris Paul  MADE\n",
      "4      4  Seth Curry  2.119074  5.320534  (0, 4)  Trae Young  MADE\n",
      "INDEX       0\n",
      "SHOOTER     0\n",
      "X           0\n",
      "Y           0\n",
      "RANGE       0\n",
      "DEFENDER    0\n",
      "SCORE       0\n",
      "dtype: int64\n",
      "            INDEX           X           Y\n",
      "count  100.000000  100.000000  100.000000\n",
      "mean    49.500000    0.923360   14.895045\n",
      "std     29.011492   12.765209    7.482244\n",
      "min      0.000000  -24.232052    5.320534\n",
      "25%     24.750000   -8.441196    8.301914\n",
      "50%     49.500000    0.512568   13.489067\n",
      "75%     74.250000   12.117063   21.826403\n",
      "max     99.000000   23.952742   33.853913\n",
      "SCORE : ['MADE' 'MISSED']\n",
      "DEFENDER : ['Chris Paul' 'Trae Young' 'Russell Westbrook']\n",
      "RANGE : ['(0, 4)' '(5, 9)' '(10, 14)' '(15, 19)' '(20, 24)' '(25, 29)']\n",
      "INDEX       0\n",
      "SHOOTER     0\n",
      "X           0\n",
      "Y           0\n",
      "RANGE       0\n",
      "DEFENDER    0\n",
      "SCORE       0\n",
      "dtype: int64\n",
      "['MADE' 'MISSED']\n",
      "Nettoyage terminé, version sauvegardée.\n"
     ]
    }
   ],
   "source": [
    "import pandas as pd\n",
    "\n",
    "# Charger les données brutes\n",
    "df = pd.read_csv(\"../data/nba_shooting.csv\")\n",
    "print(df.info())\n",
    "print(df.head())\n",
    "\n",
    "# Vérifier les valeurs manquantes\n",
    "print(df.isnull().sum())\n",
    "\n",
    "# Statistiques de base\n",
    "print(df.describe())\n",
    "\n",
    "# Vérifier les modalités\n",
    "print(\"SCORE :\", df['SCORE'].unique())\n",
    "print(\"DEFENDER :\", df['DEFENDER'].unique())\n",
    "print(\"RANGE :\", df['RANGE'].unique())\n",
    "\n",
    "# Nettoyage\n",
    "df = df.dropna(subset=['X', 'Y', 'SCORE', 'DEFENDER'])\n",
    "df['SCORE'] = df['SCORE'].str.upper()\n",
    "df['DEFENDER'] = df['DEFENDER'].str.strip()\n",
    "\n",
    "# Vérifier après nettoyage\n",
    "print(df.isnull().sum())\n",
    "print(df['SCORE'].unique())\n",
    "\n",
    "# Sauvegarder la version propre\n",
    "df.to_csv(\"../data/nba_shooting_clean.csv\", index=False)\n",
    "print(\"Nettoyage terminé, version sauvegardée.\")\n"
   ]
  },
  {
   "cell_type": "markdown",
   "id": "850aaf57",
   "metadata": {},
   "source": []
  },
  {
   "cell_type": "markdown",
   "id": "1b133ebe",
   "metadata": {},
   "source": []
  }
 ],
 "metadata": {
  "kernelspec": {
   "display_name": ".venv",
   "language": "python",
   "name": "python3"
  },
  "language_info": {
   "codemirror_mode": {
    "name": "ipython",
    "version": 3
   },
   "file_extension": ".py",
   "mimetype": "text/x-python",
   "name": "python",
   "nbconvert_exporter": "python",
   "pygments_lexer": "ipython3",
   "version": "3.13.5"
  }
 },
 "nbformat": 4,
 "nbformat_minor": 5
}
