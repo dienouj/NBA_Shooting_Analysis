{
 "cells": [
  {
   "cell_type": "code",
   "execution_count": 2,
   "id": "86d48fe0",
   "metadata": {},
   "outputs": [
    {
     "name": "stdout",
     "output_type": "stream",
     "text": [
      "Taux de réussite de Seth Curry par défenseur :\n",
      "            DEFENDER  TotalShots  MadeShots  SuccessRate\n",
      "2         Trae Young          42         38    90.476190\n",
      "0         Chris Paul          28         21    75.000000\n",
      "1  Russell Westbrook          30         10    33.333333\n",
      "\n",
      "Taux de réussite par défenseur et range :\n",
      "             DEFENDER     RANGE  TotalShots  MadeShots  SuccessRate\n",
      "0          Chris Paul    (0, 4)           6        6.0   100.000000\n",
      "2          Chris Paul  (15, 19)           2        2.0   100.000000\n",
      "4          Chris Paul  (25, 29)           5        5.0   100.000000\n",
      "3          Chris Paul  (20, 24)          11        7.0    63.636364\n",
      "5          Chris Paul    (5, 9)           2        1.0    50.000000\n",
      "1          Chris Paul  (10, 14)           2        0.0     0.000000\n",
      "10  Russell Westbrook  (25, 29)           3        3.0   100.000000\n",
      "8   Russell Westbrook  (15, 19)           7        4.0    57.142857\n",
      "11  Russell Westbrook    (5, 9)           3        1.0    33.333333\n",
      "6   Russell Westbrook    (0, 4)           5        1.0    20.000000\n",
      "9   Russell Westbrook  (20, 24)           7        1.0    14.285714\n",
      "7   Russell Westbrook  (10, 14)           5        0.0     0.000000\n",
      "13         Trae Young  (10, 14)           5        5.0   100.000000\n",
      "15         Trae Young  (20, 24)          12       12.0   100.000000\n",
      "16         Trae Young  (25, 29)           4        4.0   100.000000\n",
      "17         Trae Young    (5, 9)           7        6.0    85.714286\n",
      "12         Trae Young    (0, 4)           5        4.0    80.000000\n",
      "14         Trae Young  (15, 19)           9        7.0    77.777778\n",
      "\n",
      "Fichiers exportés pour le rapport.\n"
     ]
    }
   ],
   "source": [
    "import pandas as pd\n",
    "\n",
    "df = pd.read_csv(\"../data/nba_shooting_clean.csv\")\n",
    "\n",
    "# Taux de réussite par défenseur\n",
    "total_by_def = df.groupby(\"DEFENDER\").size().reset_index(name=\"TotalShots\")\n",
    "made_by_def = df[df['SCORE'] == \"MADE\"].groupby(\"DEFENDER\").size().reset_index(name=\"MadeShots\")\n",
    "\n",
    "defender_success = pd.merge(total_by_def, made_by_def, on=\"DEFENDER\", how=\"left\").fillna(0)\n",
    "defender_success[\"SuccessRate\"] = defender_success[\"MadeShots\"] / defender_success[\"TotalShots\"] * 100\n",
    "\n",
    "print(\"Taux de réussite de Seth Curry par défenseur :\")\n",
    "print(defender_success.sort_values(\"SuccessRate\", ascending=False))\n",
    "\n",
    "# Taux par range et défenseur combiné\n",
    "total_range_def = df.groupby([\"DEFENDER\", \"RANGE\"]).size().reset_index(name=\"TotalShots\")\n",
    "made_range_def = df[df['SCORE'] == \"MADE\"].groupby([\"DEFENDER\", \"RANGE\"]).size().reset_index(name=\"MadeShots\")\n",
    "\n",
    "range_def_success = pd.merge(total_range_def, made_range_def, on=[\"DEFENDER\", \"RANGE\"], how=\"left\").fillna(0)\n",
    "range_def_success[\"SuccessRate\"] = range_def_success[\"MadeShots\"] / range_def_success[\"TotalShots\"] * 100\n",
    "\n",
    "print(\"\\nTaux de réussite par défenseur et range :\")\n",
    "print(range_def_success.sort_values([\"DEFENDER\", \"SuccessRate\"], ascending=[True, False]))\n",
    "\n",
    "# Export CSV pour rapport\n",
    "defender_success.to_csv(\"../reports/success_by_defender.csv\", index=False)\n",
    "range_def_success.to_csv(\"../reports/success_by_defender_range.csv\", index=False)\n",
    "print(\"\\nFichiers exportés pour le rapport.\")\n"
   ]
  }
 ],
 "metadata": {
  "kernelspec": {
   "display_name": ".venv",
   "language": "python",
   "name": "python3"
  },
  "language_info": {
   "codemirror_mode": {
    "name": "ipython",
    "version": 3
   },
   "file_extension": ".py",
   "mimetype": "text/x-python",
   "name": "python",
   "nbconvert_exporter": "python",
   "pygments_lexer": "ipython3",
   "version": "3.13.5"
  }
 },
 "nbformat": 4,
 "nbformat_minor": 5
}
